{
 "cells": [
  {
   "cell_type": "markdown",
   "metadata": {},
   "source": [
    "# Intro\n",
    "\n",
    "This note"
   ]
  },
  {
   "cell_type": "code",
   "execution_count": 17,
   "metadata": {},
   "outputs": [],
   "source": [
    "# Imports\n",
    "import pandas as pd\n",
    "from faker import Faker"
   ]
  },
  {
   "cell_type": "code",
   "execution_count": 21,
   "metadata": {},
   "outputs": [],
   "source": [
    "# Create a Faker object\n",
    "fake = Faker(use_weighting=True, locale='en_US', include_private=False)\n",
    "\n",
    "# Set the seed\n",
    "Faker.seed(4242)\n",
    "\n",
    "# Generate customer data\n",
    "customers = []\n",
    "\n",
    "for _ in range(10000):\n",
    "    customers.append({\n",
    "        'id': fake.uuid4(),\n",
    "        'name': fake.first_name(),\n",
    "        'last_name': fake.last_name(),\n",
    "        'email': fake.email(),\n",
    "        'registration_date': fake.date_between(start_date='-1y', end_date='today'),\n",
    "        'birth_date': fake.date_of_birth(minimum_age=18, maximum_age=65),\n",
    "        'street_address': fake.street_address(),\n",
    "        'city': fake.city(),\n",
    "        'state': fake.state(),\n",
    "        'country': 'USA',\n",
    "        'email_opt_in': fake.boolean(chance_of_getting_true=40)\n",
    "        })\n",
    "        \n",
    "# Save the data to a DataFrame\n",
    "customers_df = pd.DataFrame(customers)\n",
    "\n",
    "# Export the csv file \n",
    "customers_df.to_csv('data/customers.csv', index=False)"
   ]
  }
 ],
 "metadata": {
  "kernelspec": {
   "display_name": "base",
   "language": "python",
   "name": "python3"
  },
  "language_info": {
   "codemirror_mode": {
    "name": "ipython",
    "version": 3
   },
   "file_extension": ".py",
   "mimetype": "text/x-python",
   "name": "python",
   "nbconvert_exporter": "python",
   "pygments_lexer": "ipython3",
   "version": "3.12.4"
  }
 },
 "nbformat": 4,
 "nbformat_minor": 2
}
